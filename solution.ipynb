{
 "cells": [
  {
   "cell_type": "code",
   "execution_count": null,
   "metadata": {},
   "outputs": [],
   "source": [
    "# run this cell first and dont run it again unless something breaks\n",
    "# initialization steps\n",
    "import gym\n",
    "from mlg_wb_specs import MLGWB\n",
    "\n",
    "abs_MLG = MLGWB()\n",
    "abs_MLG.register()\n",
    "env = gym.make(\"MLGWB-v0\")\n"
   ]
  },
  {
   "cell_type": "code",
   "execution_count": null,
   "metadata": {},
   "outputs": [],
   "source": [
    "# run this cell whenever you want to reset the environment.\n",
    "# the first time might take a couple minutes, but after that it should be a matter of seconds\n",
    "obs  = env.reset()"
   ]
  },
  {
   "cell_type": "code",
   "execution_count": null,
   "metadata": {},
   "outputs": [],
   "source": [
    "# the following are steps which solve the environment\n",
    "# try modifying the range values/action dictionaries to see how agents move every step\n",
    "# move back and look down\n",
    "for i in range(21):\n",
    "    action = env.action_space.noop()\n",
    "    action[\"back\"] = 1\n",
    "    obs, reward, done, info = env.step(action)\n",
    "    env.render()\n",
    "    \n",
    "for i in range(20):\n",
    "    action = env.action_space.noop()\n",
    "    action[\"back\"] = 0\n",
    "    action[\"camera\"] = [5, 0]\n",
    "    obs, reward, done, info = env.step(action)\n",
    "    env.render()\n",
    "\n",
    "while obs[\"location_stats\"][\"ypos\"] > 7.5:\n",
    "    action = env.action_space.noop()\n",
    "    obs, reward, done, info = env.step(action)\n",
    "    env.render()"
   ]
  },
  {
   "cell_type": "code",
   "execution_count": null,
   "metadata": {},
   "outputs": [],
   "source": [
    "# place the water bucket\n",
    "action = env.action_space.noop()\n",
    "action[\"use\"] = 1\n",
    "obs, reward, done, info = env.step(action)\n",
    "env.render()"
   ]
  },
  {
   "cell_type": "code",
   "execution_count": null,
   "metadata": {},
   "outputs": [],
   "source": [
    "# noop\n",
    "action = env.action_space.noop()\n",
    "print(action, obs[\"life_stats\"])\n",
    "obs, reward, done, info = env.step(action)\n",
    "env.render()"
   ]
  },
  {
   "cell_type": "code",
   "execution_count": null,
   "metadata": {},
   "outputs": [],
   "source": [
    "# pick the water back up\n",
    "action = env.action_space.noop()\n",
    "action[\"use\"] = 1\n",
    "obs, reward, done, info = env.step(action)\n",
    "env.render()"
   ]
  },
  {
   "cell_type": "code",
   "execution_count": null,
   "metadata": {},
   "outputs": [],
   "source": [
    "# equip the pickaxe\n",
    "action = env.action_space.noop()\n",
    "action[\"equip\"] = \"diamond_pickaxe\"\n",
    "obs, reward, done, info = env.step(action)\n",
    "env.render()"
   ]
  },
  {
   "cell_type": "code",
   "execution_count": null,
   "metadata": {},
   "outputs": [],
   "source": [
    "# mine the gold block\n",
    "while not done:\n",
    "    action = env.action_space.noop()\n",
    "    action[\"attack\"] = 1\n",
    "    obs, reward, done, info = env.step(action)\n",
    "    env.render()\n"
   ]
  }
 ],
 "metadata": {
  "interpreter": {
   "hash": "4273b4bab5e5449faae8d739806195113c0ae50dae388bc0556285a0a4600145"
  },
  "kernelspec": {
   "display_name": "Python 3.9.7 64-bit ('gladiator': conda)",
   "language": "python",
   "name": "python3"
  },
  "language_info": {
   "codemirror_mode": {
    "name": "ipython",
    "version": 3
   },
   "file_extension": ".py",
   "mimetype": "text/x-python",
   "name": "python",
   "nbconvert_exporter": "python",
   "pygments_lexer": "ipython3",
   "version": "3.9.7"
  },
  "orig_nbformat": 4
 },
 "nbformat": 4,
 "nbformat_minor": 2
}
