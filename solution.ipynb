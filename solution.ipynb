{
 "cells": [
  {
   "cell_type": "code",
   "execution_count": 1,
   "metadata": {},
   "outputs": [
    {
     "name": "stderr",
     "output_type": "stream",
     "text": [
      "/opt/anaconda3/envs/gladiator/lib/python3.9/site-packages/gym/logger.py:34: UserWarning: \u001b[33mWARN: Box bound precision lowered by casting to float32\u001b[0m\n",
      "  warnings.warn(colorize(\"%s: %s\" % (\"WARN\", msg % args), \"yellow\"))\n",
      "/opt/anaconda3/envs/gladiator/lib/python3.9/site-packages/gym/logger.py:34: UserWarning: \u001b[33mWARN: Box bound precision lowered by casting to float32\u001b[0m\n",
      "  warnings.warn(colorize(\"%s: %s\" % (\"WARN\", msg % args), \"yellow\"))\n",
      "/opt/anaconda3/envs/gladiator/lib/python3.9/runpy.py:127: RuntimeWarning: 'minerl.utils.process_watcher' found in sys.modules after import of package 'minerl.utils', but prior to execution of 'minerl.utils.process_watcher'; this may result in unpredictable behaviour\n",
      "  warn(RuntimeWarning(msg))\n"
     ]
    }
   ],
   "source": [
    "# initialization steps\n",
    "import gym\n",
    "from mlg_wb_specs import MLGWB\n",
    "\n",
    "abs_MLG = MLGWB()\n",
    "abs_MLG.register()\n",
    "env = gym.make(\"MLGWB-v0\")\n",
    "obs  = env.reset()"
   ]
  },
  {
   "cell_type": "code",
   "execution_count": 2,
   "metadata": {},
   "outputs": [
    {
     "name": "stderr",
     "output_type": "stream",
     "text": [
      "0it [00:00, ?it/s]"
     ]
    }
   ],
   "source": [
    "# move back and look down\n",
    "for i in range(21):\n",
    "    action = env.action_space.noop()\n",
    "    action[\"back\"] = 1\n",
    "    obs, reward, done, info = env.step(action)\n",
    "    env.render()\n",
    "    \n",
    "for i in range(20):\n",
    "    action = env.action_space.noop()\n",
    "    action[\"back\"] = 0\n",
    "    action[\"camera\"] = [5, 0]\n",
    "    obs, reward, done, info = env.step(action)\n",
    "    env.render()\n",
    "\n",
    "while obs[\"location_stats\"][\"ypos\"] > 7.5:\n",
    "    action = env.action_space.noop()\n",
    "    obs, reward, done, info = env.step(action)\n",
    "    env.render()"
   ]
  },
  {
   "cell_type": "code",
   "execution_count": 3,
   "metadata": {},
   "outputs": [],
   "source": [
    "# place the water bucket\n",
    "action = env.action_space.noop()\n",
    "action[\"use\"] = 1\n",
    "obs, reward, done, info = env.step(action)\n",
    "env.render()"
   ]
  },
  {
   "cell_type": "code",
   "execution_count": 4,
   "metadata": {},
   "outputs": [
    {
     "name": "stdout",
     "output_type": "stream",
     "text": [
      "OrderedDict([('attack', 0), ('back', 0), ('camera', array([0., 0.], dtype=float32)), ('equip', 'none'), ('forward', 0), ('jump', 0), ('left', 0), ('right', 0), ('sneak', 0), ('sprint', 0), ('use', 0)]) {'air': array(300), 'food': array(20), 'is_alive': array(True), 'life': array(20.), 'saturation': array(5.), 'score': array(0), 'xp': array(0)}\n"
     ]
    },
    {
     "data": {
      "text/plain": [
       "False"
      ]
     },
     "execution_count": 4,
     "metadata": {},
     "output_type": "execute_result"
    }
   ],
   "source": [
    "# noop\n",
    "action = env.action_space.noop()\n",
    "print(action, obs[\"life_stats\"])\n",
    "obs, reward, done, info = env.step(action)\n",
    "env.render()"
   ]
  },
  {
   "cell_type": "code",
   "execution_count": 5,
   "metadata": {},
   "outputs": [
    {
     "data": {
      "text/plain": [
       "array([[[ 76,  99,  52],\n",
       "        [ 75,  98,  51],\n",
       "        [ 70,  92,  48],\n",
       "        ...,\n",
       "        [ 73,  95,  50],\n",
       "        [ 76,  99,  52],\n",
       "        [ 76,  99,  52]],\n",
       "\n",
       "       [[ 76,  99,  52],\n",
       "        [ 75,  98,  51],\n",
       "        [ 75,  98,  51],\n",
       "        ...,\n",
       "        [ 73,  96,  50],\n",
       "        [ 75,  98,  51],\n",
       "        [ 75,  98,  51]],\n",
       "\n",
       "       [[ 73,  95,  50],\n",
       "        [ 73,  96,  50],\n",
       "        [ 73,  95,  50],\n",
       "        ...,\n",
       "        [ 73,  95,  50],\n",
       "        [ 75,  98,  51],\n",
       "        [ 70,  92,  48]],\n",
       "\n",
       "       ...,\n",
       "\n",
       "       [[ 79, 104,  54],\n",
       "        [ 74,  97,  51],\n",
       "        [ 74,  97,  50],\n",
       "        ...,\n",
       "        [ 74,  97,  50],\n",
       "        [ 70,  92,  48],\n",
       "        [ 75,  99,  51]],\n",
       "\n",
       "       [[ 75,  99,  51],\n",
       "        [ 75,  98,  51],\n",
       "        [ 70,  92,  48],\n",
       "        ...,\n",
       "        [ 74,  97,  51],\n",
       "        [ 75,  98,  51],\n",
       "        [ 75,  98,  51]],\n",
       "\n",
       "       [[ 76, 100,  52],\n",
       "        [ 75,  98,  51],\n",
       "        [ 75,  99,  51],\n",
       "        ...,\n",
       "        [ 79, 104,  54],\n",
       "        [ 75,  99,  51],\n",
       "        [ 76, 100,  52]]], dtype=uint8)"
      ]
     },
     "execution_count": 5,
     "metadata": {},
     "output_type": "execute_result"
    }
   ],
   "source": [
    "# pick the water back up\n",
    "action = env.action_space.noop()\n",
    "action[\"use\"] = 1\n",
    "obs, reward, done, info = env.step(action)\n",
    "env.render()"
   ]
  },
  {
   "cell_type": "code",
   "execution_count": 6,
   "metadata": {},
   "outputs": [
    {
     "data": {
      "text/plain": [
       "array([[[ 76,  99,  52],\n",
       "        [ 75,  98,  51],\n",
       "        [ 70,  92,  48],\n",
       "        ...,\n",
       "        [ 73,  95,  50],\n",
       "        [ 76,  99,  52],\n",
       "        [ 76,  99,  52]],\n",
       "\n",
       "       [[ 76,  99,  52],\n",
       "        [ 75,  98,  51],\n",
       "        [ 75,  98,  51],\n",
       "        ...,\n",
       "        [ 73,  96,  50],\n",
       "        [ 75,  98,  51],\n",
       "        [ 75,  98,  51]],\n",
       "\n",
       "       [[ 73,  95,  50],\n",
       "        [ 73,  96,  50],\n",
       "        [ 73,  95,  50],\n",
       "        ...,\n",
       "        [ 73,  95,  50],\n",
       "        [ 75,  98,  51],\n",
       "        [ 70,  92,  48]],\n",
       "\n",
       "       ...,\n",
       "\n",
       "       [[ 79, 104,  54],\n",
       "        [ 74,  97,  51],\n",
       "        [ 74,  97,  50],\n",
       "        ...,\n",
       "        [ 74,  97,  50],\n",
       "        [ 70,  92,  48],\n",
       "        [ 75,  99,  51]],\n",
       "\n",
       "       [[ 75,  99,  51],\n",
       "        [ 75,  98,  51],\n",
       "        [ 70,  92,  48],\n",
       "        ...,\n",
       "        [ 74,  97,  51],\n",
       "        [ 75,  98,  51],\n",
       "        [ 75,  98,  51]],\n",
       "\n",
       "       [[ 76, 100,  52],\n",
       "        [ 75,  98,  51],\n",
       "        [ 75,  99,  51],\n",
       "        ...,\n",
       "        [ 79, 104,  54],\n",
       "        [ 75,  99,  51],\n",
       "        [ 76, 100,  52]]], dtype=uint8)"
      ]
     },
     "execution_count": 6,
     "metadata": {},
     "output_type": "execute_result"
    }
   ],
   "source": [
    "# equip the pickaxe\n",
    "action = env.action_space.noop()\n",
    "action[\"equip\"] = \"diamond_pickaxe\"\n",
    "obs, reward, done, info = env.step(action)\n",
    "env.render()"
   ]
  },
  {
   "cell_type": "code",
   "execution_count": 7,
   "metadata": {},
   "outputs": [],
   "source": [
    "# mine the gold block\n",
    "while not done:\n",
    "    action = env.action_space.noop()\n",
    "    action[\"attack\"] = 1\n",
    "    obs, reward, done, info = env.step(action)\n",
    "    env.render()\n"
   ]
  }
 ],
 "metadata": {
  "interpreter": {
   "hash": "4273b4bab5e5449faae8d739806195113c0ae50dae388bc0556285a0a4600145"
  },
  "kernelspec": {
   "display_name": "Python 3.9.7 64-bit ('gladiator': conda)",
   "language": "python",
   "name": "python3"
  },
  "language_info": {
   "codemirror_mode": {
    "name": "ipython",
    "version": 3
   },
   "file_extension": ".py",
   "mimetype": "text/x-python",
   "name": "python",
   "nbconvert_exporter": "python",
   "pygments_lexer": "ipython3",
   "version": "3.9.7"
  },
  "orig_nbformat": 4
 },
 "nbformat": 4,
 "nbformat_minor": 2
}
