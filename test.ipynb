{
 "cells": [
  {
   "cell_type": "code",
   "execution_count": 1,
   "metadata": {},
   "outputs": [
    {
     "name": "stderr",
     "output_type": "stream",
     "text": [
      "/opt/anaconda3/envs/gladiator/lib/python3.9/site-packages/gym/logger.py:34: UserWarning: \u001b[33mWARN: Box bound precision lowered by casting to float32\u001b[0m\n",
      "  warnings.warn(colorize(\"%s: %s\" % (\"WARN\", msg % args), \"yellow\"))\n",
      "/opt/anaconda3/envs/gladiator/lib/python3.9/site-packages/gym/logger.py:34: UserWarning: \u001b[33mWARN: Box bound precision lowered by casting to float32\u001b[0m\n",
      "  warnings.warn(colorize(\"%s: %s\" % (\"WARN\", msg % args), \"yellow\"))\n",
      "/opt/anaconda3/envs/gladiator/lib/python3.9/runpy.py:127: RuntimeWarning: 'minerl.utils.process_watcher' found in sys.modules after import of package 'minerl.utils', but prior to execution of 'minerl.utils.process_watcher'; this may result in unpredictable behaviour\n",
      "  warn(RuntimeWarning(msg))\n"
     ]
    }
   ],
   "source": [
    "import gym\n",
    "from mlg_wb_specs import MLGWB\n",
    "\n",
    "abs_MLG = MLGWB()\n",
    "abs_MLG.register()\n",
    "env = gym.make(\"MLGWB-v0\")\n",
    "obs  = env.reset()\n",
    "done = False\n"
   ]
  },
  {
   "cell_type": "code",
   "execution_count": null,
   "metadata": {},
   "outputs": [],
   "source": [
    "\n",
    "\n",
    "# while not done:\n",
    "\n",
    "#     env.render()\n",
    "\n",
    "#     # a dictionary of actions. Try indexing it and changing values.\n",
    "#     action = env.action_space.noop()\n",
    "\n",
    "#     obs, reward, done, info = env.step(action)"
   ]
  },
  {
   "cell_type": "code",
   "execution_count": 82,
   "metadata": {},
   "outputs": [
    {
     "name": "stdout",
     "output_type": "stream",
     "text": [
      "False\n"
     ]
    }
   ],
   "source": [
    "env.render()\n",
    "action = env.action_space.noop()\n",
    "action[\"place\"] = \"water_bucket\"\n",
    "action[\"camera\"] = [0, 0]\n",
    "# action[\"jump\"] = 1\n",
    "# action[\"backward\"] = 1\n",
    "obs, reward, done, info = env.step(action)\n",
    "print(done)"
   ]
  },
  {
   "cell_type": "code",
   "execution_count": 33,
   "metadata": {},
   "outputs": [
    {
     "data": {
      "text/plain": [
       "OrderedDict([('attack', 0),\n",
       "             ('back', 0),\n",
       "             ('camera', [5, 0]),\n",
       "             ('forward', 0),\n",
       "             ('jump', 1),\n",
       "             ('left', 0),\n",
       "             ('place', 'none'),\n",
       "             ('right', 0),\n",
       "             ('sneak', 0),\n",
       "             ('sprint', 0)])"
      ]
     },
     "execution_count": 33,
     "metadata": {},
     "output_type": "execute_result"
    }
   ],
   "source": [
    "# env.reset()\n",
    "# action\n",
    "# for i in range(10):\n",
    "#     env.render()\n",
    "#     action = env.action_space.noop()\n",
    "#     action[\"forward\"] = 1\n",
    "#     obs, reward, done, info = env.step(action)\n",
    "# for i in range(10):\n",
    "#     env.render()\n",
    "#     action = env.action_space.noop()\n",
    "#     # action[\"forward\"] = 1\n",
    "#     # action[\"left\"] = 1\n",
    "#     action[\"camera\"] = [5, 0]\n",
    "#     action[\"place\"] = \"water_bucket\"\n",
    "#     obs, reward, done, info = env.step(action)\n",
    "\n",
    "action"
   ]
  }
 ],
 "metadata": {
  "interpreter": {
   "hash": "4273b4bab5e5449faae8d739806195113c0ae50dae388bc0556285a0a4600145"
  },
  "kernelspec": {
   "display_name": "Python 3.9.7 64-bit ('gladiator': conda)",
   "language": "python",
   "name": "python3"
  },
  "language_info": {
   "codemirror_mode": {
    "name": "ipython",
    "version": 3
   },
   "file_extension": ".py",
   "mimetype": "text/x-python",
   "name": "python",
   "nbconvert_exporter": "python",
   "pygments_lexer": "ipython3",
   "version": "3.9.7"
  },
  "orig_nbformat": 4
 },
 "nbformat": 4,
 "nbformat_minor": 2
}
